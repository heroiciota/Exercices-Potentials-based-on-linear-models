{
 "cells": [
  {
   "cell_type": "code",
   "execution_count": 62,
   "metadata": {},
   "outputs": [],
   "source": [
    "#导入需要的各种库\n",
    "#matplotlib.pyplot: 通过该库的plt模块，可以进行数据可视化和绘制图表。\n",
    "import matplotlib.pyplot as plt\n",
    "#matplotlib: 这个库为pyplot提供了一些底层功能，用于配置图表的属性、样式等。\n",
    "import matplotlib as mpl\n",
    "#更改风格为ggplot\n",
    "plt.style.use('classic')\n",
    "#numpy: 这个库提供了高性能的数值计算工具，包括数组操作、线性代数运算、随机数生成等。\n",
    "import numpy as np\n",
    "#sklearn （即scikit-learn）: 这是一个常用的机器学习库，提供了各种机器学习算法、数据预处理工具和评估函数等。\n",
    "import sklearn\n",
    "#linear_model: sklearn库中的一个子模块，提供了线性回归模型和相关方法。\n",
    "from sklearn import linear_model\n",
    "#statistics: 这个库提供了一些统计函数，如计算标准差（stdev）和平均值（mean）。\n",
    "from statistics import stdev, mean\n",
    "#sklearn.feature_selection: sklearn库中的一个子模块，提供特征选择的工具和算法，包括卡方检验（chi2）等。\n",
    "from sklearn.feature_selection import chi2\n",
    "#subprocess：Python标准库中的一个模块，它提供了一个简单而灵活的接口来创建和控制子进程，以及与其进行交互。\n",
    "#使用subprocess可以在Python程序中执行外部命令、启动其他程序，并通过管道进行输入输出的处理\n",
    "import subprocess\n",
    "\n"
   ]
  },
  {
   "cell_type": "code",
   "execution_count": 63,
   "metadata": {},
   "outputs": [],
   "source": [
    "## Definition of the Gaussian function\n",
    "def G(x, mu, sigma):\n",
    "    return np.exp(-np.power((x - mu)/sigma, 2) * (1/2))\n",
    "\n",
    "## Definition of the Lennard-Jones function\n",
    "def LJ(x,sigma,E):\n",
    "    return 4*E*((sigma/x)**12.0-(sigma/x)**6.0)"
   ]
  },
  {
   "cell_type": "code",
   "execution_count": 64,
   "metadata": {},
   "outputs": [
    {
     "data": {
      "image/png": "[encoded data removed]",
      "text/plain": [
       "<Figure size 640x480 with 1 Axes>"
      ]
     },
     "metadata": {},
     "output_type": "display_data"
    }
   ],
   "source": [
    "## Dataset Definition\n",
    "# Train\n",
    "N_train = 750\n",
    "x_train = np.random.uniform(low=0.9, high=3.0, size=(N_train,))\n",
    "y_train = LJ(x_train, 1, 1)\n",
    "plt.scatter(x_train, y_train, color='red', label='train')\n",
    "\n",
    "# Valid\n",
    "N_valid = 250\n",
    "x_valid = np.random.uniform(low=0.9, high=3.0, size=(N_valid,))\n",
    "y_valid = LJ(x_valid, 1, 1)\n",
    "plt.scatter(x_valid, y_valid, color='blue', label='valid')\n",
    "\n",
    "# Test\n",
    "N_test = 250\n",
    "x_test = np.random.uniform(low=0.9, high=3.0, size=(N_test,))\n",
    "y_test = LJ(x_test, 1, 1)\n",
    "plt.scatter(x_test, y_test, color='green', label='test')\n",
    "plt.legend()\n",
    "plt.show()"
   ]
  },
  {
   "cell_type": "code",
   "execution_count": 65,
   "metadata": {},
   "outputs": [],
   "source": [
    "# Parameters for feature functions\n",
    "\n",
    "# [mu_1, ..., mu_n],\n",
    "mu_min = 0.2\n",
    "mu_max = 5.0\n",
    "dmu = 0.2\n",
    "mus=np.arange(mu_min, mu_max, dmu)\n",
    "\n",
    "\n",
    "# [s_1, ..., s_m]\n",
    "sigma_min = 0.2\n",
    "sigma_max = 5.0\n",
    "dsigma = 0.2\n",
    "sigmas = np.arange(sigma_min,sigma_max,dsigma)\n",
    "\n",
    "# Make grid of means and variances\n",
    "MUs, SIGMAs = np.meshgrid(mus, sigmas)\n",
    "\n",
    "# flatten the grid so to get a lists of D = nm gaussian parameters : [mu_1, ..., mu_{D}], [s_1, ..., s_{D}]\n",
    "MUs = MUs.reshape(mus.shape[0] * sigmas.shape[0])\n",
    "SIGMAs = SIGMAs.reshape(sigmas.shape[0] * sigmas.shape[0])"
   ]
  },
  {
   "cell_type": "code",
   "execution_count": 66,
   "metadata": {},
   "outputs": [
    {
     "name": "stdout",
     "output_type": "stream",
     "text": [
      "(750, 576)\n",
      "(250, 576)\n"
     ]
    }
   ],
   "source": [
    "def feature_matrix(x, MUs, SIGMAs):\n",
    "    \"\"\"\n",
    "    Ins:\n",
    "    x: input data of size N,\n",
    "    MUs: D 1-d gaussian means \n",
    "    SIGMAs: D 1-d gaussian standard deviation\n",
    "    Outs:\n",
    "    X: feature matrix of size (N, D)\n",
    "    \"\"\"\n",
    "    D = MUs.shape[0]\n",
    "    N = x.shape[0]\n",
    "    \n",
    "    \"\"\"\n",
    "    Duplicate x, D times so to get x_tiled of size (N, D)\n",
    "    x_tiled = [[x1 x1 ... x1],\n",
    "               [x2 x2 ... x2],\n",
    "               [............],\n",
    "               [xN xN ... xN]]\n",
    "    \"\"\"\n",
    "    x_tiled = np.tile(x[:, np.newaxis], (1, D))\n",
    "    \n",
    "    \"\"\"\n",
    "    Duplicate MU, N times so to get MUs_tiled of size (N, D)\n",
    "    x_tiled = [[mu1 mu2 ... muD],\n",
    "               [mu1 mu2 ... muD],\n",
    "               [...............],\n",
    "               [mu1 mu2 ... muD]]\n",
    "    \"\"\"\n",
    "    MUs_tiled = np.tile(MUs[np.newaxis, :], (N, 1))\n",
    "    \"\"\"\n",
    "    Duplicate SIGMA, N times so to get SIGMAs_tiled of size (N, D)\n",
    "    SIGMA_s_tiled = [[s1 s2 ... sD],\n",
    "                     [s1 s2 ... sD],\n",
    "                     [............],\n",
    "                     [s1 s2 ... sD]]\n",
    "    \"\"\"\n",
    "    SIGMAs_tiled = np.tile(SIGMAs[np.newaxis, :], (N, 1))\n",
    "    \n",
    "    \"\"\"\n",
    "    Matricially compute gaussian features :\n",
    "    X = [[G(x1; mu1, s1), ..., G(x1; muD, sD)],\n",
    "         [G(x2; mu1, s1), ..., G(x2; muD, sD)],\n",
    "         [...................................],\n",
    "         [G(xN; mu1, s1), ..., G(xN; muD, sD)]]\n",
    "    \"\"\"\n",
    "    \n",
    "    return G(x_tiled, MUs_tiled, SIGMAs_tiled)\n",
    "\n",
    "X_train = feature_matrix(x_train, MUs, SIGMAs)\n",
    "X_valid = feature_matrix(x_valid, MUs, SIGMAs)\n",
    "X_test = feature_matrix(x_test, MUs, SIGMAs)\n",
    "print(X_train.shape)\n",
    "print(X_test.shape)"
   ]
  },
  {
   "cell_type": "code",
   "execution_count": 67,
   "metadata": {},
   "outputs": [
    {
     "name": "stdout",
     "output_type": "stream",
     "text": [
      "mse_ols 5.199650898786232e-16\n",
      "mae_ols 1.5352278086980252e-08\n",
      "n_coeff 576\n"
     ]
    }
   ],
   "source": [
    "## OLS: Doesn't require hyperparametrization\n",
    "\n",
    "## Ordinary Least Square\n",
    "# Train\n",
    "clf = linear_model.LinearRegression()\n",
    "clf.fit(X_train, y_train)\n",
    "\n",
    "# Test Prediction\n",
    "y_hat_test=clf.predict(X_test)\n",
    "coeff=np.copy(clf.coef_)\n",
    "\n",
    "# Performance Evaluation\n",
    "n_coeff = np.sum((coeff != 0))\n",
    "mse_ols = np.mean(np.power(y_hat_test - y_test, 2))\n",
    "mae_ols = np.mean(np.abs(y_hat_test - y_test))\n",
    "\n",
    "print('mse_ols', mse_ols)\n",
    "print('mae_ols', mae_ols)\n",
    "print('n_coeff', n_coeff)\n"
   ]
  },
  {
   "cell_type": "code",
   "execution_count": 68,
   "metadata": {},
   "outputs": [
    {
     "name": "stdout",
     "output_type": "stream",
     "text": [
      "mse:  4.077447180159896e-06\n",
      "norm2:  1646.4128242395143\n",
      "alpha_star_ridge:  1.0000000000000005e-09\n",
      "coeff_star_ridge:  [ 1.13942669e+03 -6.63797169e+02 -4.70754035e+02 -1.49179197e+02\n",
      "  1.35857821e+01  5.48946101e+01  2.60070044e+01  5.27806512e-01\n",
      "  1.41158567e-01  8.23179006e+00]\n",
      "non_zero 574\n"
     ]
    }
   ],
   "source": [
    "## Ridge : hypertune alpha\n",
    "\n",
    "# Validation\n",
    "validation_alphas = np.power(0.1, np.arange(0, 10))\n",
    "mse_ridge_valid = []\n",
    "mae_ridge_valid = []\n",
    "coeffs_ridge = []\n",
    "norm2_ridge = []\n",
    "\n",
    "# Train for different values of alpha and store result\n",
    "for validation_alpha in validation_alphas:\n",
    "    clf = sklearn.linear_model.Ridge(alpha=validation_alpha)\n",
    "    clf.fit(X_train, y_train)\n",
    "    y_hat_valid = clf.predict(X_valid)\n",
    "    coeff_ridge = np.copy(clf.coef_)\n",
    "    \n",
    "    mae_ridge = np.mean(np.abs(y_hat_valid - y_valid))\n",
    "    mse_ridge = np.mean(np.power(y_hat_valid - y_valid, 2))\n",
    "    \n",
    "    mae_ridge_valid.append(mae_ridge)\n",
    "    mse_ridge_valid.append(mse_ridge)\n",
    "    norm2_ridge.append(np.linalg.norm(coeff_ridge, 2))\n",
    "    coeffs_ridge.append(coeff_ridge)\n",
    "\n",
    "# Choose alpha with lowest mse.\n",
    "alpha_star_ridge = validation_alphas[np.argmin(mse_ridge_valid)]\n",
    "\n",
    "#Train\n",
    "clf = sklearn.linear_model.Ridge(alpha=alpha_star_ridge)\n",
    "clf.fit(X_train, y_train)\n",
    "\n",
    "# Test Prediction\n",
    "y_hat_test = clf.predict(X_test)\n",
    "coeff_star_ridge = np.copy(clf.coef_)\n",
    "\n",
    "# Performance Evaluation\n",
    "mae_ridge = np.mean(np.abs(y_hat_test - y_test))\n",
    "mse_ridge = np.mean(np.power(y_hat_test - y_test, 2))\n",
    "norm2_ridge = np.linalg.norm(coeff_star_ridge, 2)\n",
    "nonzero_ridge = np.sum(np.abs(coeff_star_ridge) > 1e-7)\n",
    "\n",
    "print('mse: ', mse_ridge)\n",
    "print('norm2: ', norm2_ridge)\n",
    "print('alpha_star_ridge: ', alpha_star_ridge)\n",
    "print('coeff_star_ridge: ', coeff_star_ridge[:10])\n",
    "print('non_zero', nonzero_ridge)"
   ]
  },
  {
   "cell_type": "code",
   "execution_count": 69,
   "metadata": {},
   "outputs": [
    {
     "ename": "InvalidParameterError",
     "evalue": "The 'max_iter' parameter of Lasso must be an int in the range [1, inf) or None. Got 100000.0 instead.",
     "output_type": "error",
     "traceback": [
      "\u001b[1;31m---------------------------------------------------------------------------\u001b[0m",
      "\u001b[1;31mInvalidParameterError\u001b[0m                     Traceback (most recent call last)",
      "Cell \u001b[1;32mIn[69], line 9\u001b[0m\n\u001b[0;32m      7\u001b[0m \u001b[39mfor\u001b[39;00m validation_alpha \u001b[39min\u001b[39;00m validation_alphas:\n\u001b[0;32m      8\u001b[0m     clf \u001b[39m=\u001b[39m sklearn\u001b[39m.\u001b[39mlinear_model\u001b[39m.\u001b[39mLasso(alpha\u001b[39m=\u001b[39mvalidation_alpha, max_iter\u001b[39m=\u001b[39m\u001b[39m1e5\u001b[39m)\n\u001b[1;32m----> 9\u001b[0m     clf\u001b[39m.\u001b[39;49mfit(X_train, y_train)\n\u001b[0;32m     10\u001b[0m     y_hat_valid \u001b[39m=\u001b[39m clf\u001b[39m.\u001b[39mpredict(X_valid)\n\u001b[0;32m     11\u001b[0m     coeff_lcd \u001b[39m=\u001b[39m np\u001b[39m.\u001b[39mcopy(clf\u001b[39m.\u001b[39mcoef_)\n",
      "File \u001b[1;32mc:\\Users\\heroichuge\\anaconda3\\lib\\site-packages\\sklearn\\linear_model\\_coordinate_descent.py:892\u001b[0m, in \u001b[0;36mElasticNet.fit\u001b[1;34m(self, X, y, sample_weight, check_input)\u001b[0m\n\u001b[0;32m    856\u001b[0m \u001b[39mdef\u001b[39;00m \u001b[39mfit\u001b[39m(\u001b[39mself\u001b[39m, X, y, sample_weight\u001b[39m=\u001b[39m\u001b[39mNone\u001b[39;00m, check_input\u001b[39m=\u001b[39m\u001b[39mTrue\u001b[39;00m):\n\u001b[0;32m    857\u001b[0m     \u001b[39m\"\"\"Fit model with coordinate descent.\u001b[39;00m\n\u001b[0;32m    858\u001b[0m \n\u001b[0;32m    859\u001b[0m \u001b[39m    Parameters\u001b[39;00m\n\u001b[1;32m   (...)\u001b[0m\n\u001b[0;32m    890\u001b[0m \u001b[39m    initial data in memory directly using that format.\u001b[39;00m\n\u001b[0;32m    891\u001b[0m \u001b[39m    \"\"\"\u001b[39;00m\n\u001b[1;32m--> 892\u001b[0m     \u001b[39mself\u001b[39;49m\u001b[39m.\u001b[39;49m_validate_params()\n\u001b[0;32m    894\u001b[0m     \u001b[39mif\u001b[39;00m \u001b[39mself\u001b[39m\u001b[39m.\u001b[39malpha \u001b[39m==\u001b[39m \u001b[39m0\u001b[39m:\n\u001b[0;32m    895\u001b[0m         warnings\u001b[39m.\u001b[39mwarn(\n\u001b[0;32m    896\u001b[0m             \u001b[39m\"\u001b[39m\u001b[39mWith alpha=0, this algorithm does not converge \u001b[39m\u001b[39m\"\u001b[39m\n\u001b[0;32m    897\u001b[0m             \u001b[39m\"\u001b[39m\u001b[39mwell. You are advised to use the LinearRegression \u001b[39m\u001b[39m\"\u001b[39m\n\u001b[0;32m    898\u001b[0m             \u001b[39m\"\u001b[39m\u001b[39mestimator\u001b[39m\u001b[39m\"\u001b[39m,\n\u001b[0;32m    899\u001b[0m             stacklevel\u001b[39m=\u001b[39m\u001b[39m2\u001b[39m,\n\u001b[0;32m    900\u001b[0m         )\n",
      "File \u001b[1;32mc:\\Users\\heroichuge\\anaconda3\\lib\\site-packages\\sklearn\\base.py:581\u001b[0m, in \u001b[0;36mBaseEstimator._validate_params\u001b[1;34m(self)\u001b[0m\n\u001b[0;32m    573\u001b[0m \u001b[39mdef\u001b[39;00m \u001b[39m_validate_params\u001b[39m(\u001b[39mself\u001b[39m):\n\u001b[0;32m    574\u001b[0m     \u001b[39m\"\"\"Validate types and values of constructor parameters\u001b[39;00m\n\u001b[0;32m    575\u001b[0m \n\u001b[0;32m    576\u001b[0m \u001b[39m    The expected type and values must be defined in the `_parameter_constraints`\u001b[39;00m\n\u001b[1;32m   (...)\u001b[0m\n\u001b[0;32m    579\u001b[0m \u001b[39m    accepted constraints.\u001b[39;00m\n\u001b[0;32m    580\u001b[0m \u001b[39m    \"\"\"\u001b[39;00m\n\u001b[1;32m--> 581\u001b[0m     validate_parameter_constraints(\n\u001b[0;32m    582\u001b[0m         \u001b[39mself\u001b[39;49m\u001b[39m.\u001b[39;49m_parameter_constraints,\n\u001b[0;32m    583\u001b[0m         \u001b[39mself\u001b[39;49m\u001b[39m.\u001b[39;49mget_params(deep\u001b[39m=\u001b[39;49m\u001b[39mFalse\u001b[39;49;00m),\n\u001b[0;32m    584\u001b[0m         caller_name\u001b[39m=\u001b[39;49m\u001b[39mself\u001b[39;49m\u001b[39m.\u001b[39;49m\u001b[39m__class__\u001b[39;49m\u001b[39m.\u001b[39;49m\u001b[39m__name__\u001b[39;49m,\n\u001b[0;32m    585\u001b[0m     )\n",
      "File \u001b[1;32mc:\\Users\\heroichuge\\anaconda3\\lib\\site-packages\\sklearn\\utils\\_param_validation.py:97\u001b[0m, in \u001b[0;36mvalidate_parameter_constraints\u001b[1;34m(parameter_constraints, params, caller_name)\u001b[0m\n\u001b[0;32m     91\u001b[0m \u001b[39melse\u001b[39;00m:\n\u001b[0;32m     92\u001b[0m     constraints_str \u001b[39m=\u001b[39m (\n\u001b[0;32m     93\u001b[0m         \u001b[39mf\u001b[39m\u001b[39m\"\u001b[39m\u001b[39m{\u001b[39;00m\u001b[39m'\u001b[39m\u001b[39m, \u001b[39m\u001b[39m'\u001b[39m\u001b[39m.\u001b[39mjoin([\u001b[39mstr\u001b[39m(c) \u001b[39mfor\u001b[39;00m c \u001b[39min\u001b[39;00m constraints[:\u001b[39m-\u001b[39m\u001b[39m1\u001b[39m]])\u001b[39m}\u001b[39;00m\u001b[39m or\u001b[39m\u001b[39m\"\u001b[39m\n\u001b[0;32m     94\u001b[0m         \u001b[39mf\u001b[39m\u001b[39m\"\u001b[39m\u001b[39m \u001b[39m\u001b[39m{\u001b[39;00mconstraints[\u001b[39m-\u001b[39m\u001b[39m1\u001b[39m]\u001b[39m}\u001b[39;00m\u001b[39m\"\u001b[39m\n\u001b[0;32m     95\u001b[0m     )\n\u001b[1;32m---> 97\u001b[0m \u001b[39mraise\u001b[39;00m InvalidParameterError(\n\u001b[0;32m     98\u001b[0m     \u001b[39mf\u001b[39m\u001b[39m\"\u001b[39m\u001b[39mThe \u001b[39m\u001b[39m{\u001b[39;00mparam_name\u001b[39m!r}\u001b[39;00m\u001b[39m parameter of \u001b[39m\u001b[39m{\u001b[39;00mcaller_name\u001b[39m}\u001b[39;00m\u001b[39m must be\u001b[39m\u001b[39m\"\u001b[39m\n\u001b[0;32m     99\u001b[0m     \u001b[39mf\u001b[39m\u001b[39m\"\u001b[39m\u001b[39m \u001b[39m\u001b[39m{\u001b[39;00mconstraints_str\u001b[39m}\u001b[39;00m\u001b[39m. Got \u001b[39m\u001b[39m{\u001b[39;00mparam_val\u001b[39m!r}\u001b[39;00m\u001b[39m instead.\u001b[39m\u001b[39m\"\u001b[39m\n\u001b[0;32m    100\u001b[0m )\n",
      "\u001b[1;31mInvalidParameterError\u001b[0m: The 'max_iter' parameter of Lasso must be an int in the range [1, inf) or None. Got 100000.0 instead."
     ]
    }
   ],
   "source": [
    "## LASSO_CD\n",
    "validation_alphas = np.power(0.1, np.arange(0, 10))\n",
    "mse_lcd_valid = []\n",
    "mae_lcd_valid = []\n",
    "coeffs_lcd = []\n",
    "norm2_lcd = []\n",
    "for validation_alpha in validation_alphas:\n",
    "    clf = sklearn.linear_model.Lasso(alpha=validation_alpha, max_iter=1e5)\n",
    "    clf.fit(X_train, y_train)\n",
    "    y_hat_valid = clf.predict(X_valid)\n",
    "    coeff_lcd = np.copy(clf.coef_)\n",
    "    \n",
    "    mae_lcd = np.mean(np.abs(y_hat_valid - y_valid))\n",
    "    mse_lcd = np.mean(np.power(y_hat_valid - y_valid, 2))\n",
    "    \n",
    "    mae_lcd_valid.append(mae_lcd)\n",
    "    mse_lcd_valid.append(mse_lcd)\n",
    "    norm2_lcd.append(np.linalg.norm(coeff_lcd, 2))\n",
    "    coeffs_lcd.append(coeff_lcd)\n",
    "    \n",
    "alpha_star_lcd = validation_alphas[np.argmin(mse_lcd_valid)]\n",
    "clf = sklearn.linear_model.Lasso(alpha=alpha_star_lcd, max_iter=1e5)\n",
    "clf.fit(X_train, y_train)\n",
    "y_hat_test = clf.predict(X_test)\n",
    "coeff_star_lcd = np.copy(clf.coef_)\n",
    "mae_lcd = np.mean(np.abs(y_hat_test - y_test))\n",
    "mse_lcd = np.mean(np.power(y_hat_test - y_test, 2))\n",
    "norm2_lcd = np.linalg.norm(coeff_star_lcd, 2)\n",
    "nonzero_lcd = np.sum(np.abs(coeff_star_lcd) > 1e-7)\n",
    "\n",
    "print('alpha_star: ', alpha_star_lcd)\n",
    "print('mse: ', mse_lcd)\n",
    "print('mae: ', mae_lcd)\n",
    "print('norm2_lcd: ', norm2_lcd)\n",
    "print('nonzero_lcd: ', nonzero_lcd)"
   ]
  },
  {
   "cell_type": "code",
   "execution_count": null,
   "metadata": {},
   "outputs": [
    {
     "name": "stdout",
     "output_type": "stream",
     "text": [
      "alpha_star_lla 1.0000000000000005e-09\n",
      "mse:  4.107811397471394e-06\n",
      "mae:  0.0007522151976336502\n",
      "norm2_lcd:  7780431.034704701\n",
      "nonzero_lcd:  13\n"
     ]
    }
   ],
   "source": [
    "## LASSO_LARS\n",
    "validation_alphas = np.power(0.1, np.arange(0, 10))\n",
    "mse_lla_valid = []\n",
    "mae_lla_valid = []\n",
    "coeffs_lla = []\n",
    "norm2_lla = []\n",
    "for validation_alpha in validation_alphas:\n",
    "    clf = sklearn.linear_model.LassoLars(alpha=validation_alpha)\n",
    "    clf.fit(X_train, y_train)\n",
    "    y_hat_valid = clf.predict(X_valid)\n",
    "    coeff_lla = np.copy(clf.coef_)\n",
    "    \n",
    "    mae_lla = np.mean(np.abs(y_hat_valid - y_valid))\n",
    "    mse_lla = np.mean(np.power(y_hat_valid - y_valid, 2))\n",
    "    \n",
    "    mae_lla_valid.append(mae_lla)\n",
    "    mse_lla_valid.append(mse_lla)\n",
    "    norm2_lla.append(np.linalg.norm(coeff_lla, 2))\n",
    "    coeffs_lla.append(coeff_lla)\n",
    "    \n",
    "alpha_star_lla = validation_alphas[np.argmin(mse_lla_valid)]\n",
    "clf = sklearn.linear_model.LassoLars(alpha=alpha_star_lla)\n",
    "clf.fit(X_train, y_train)\n",
    "y_hat_test = clf.predict(X_test)\n",
    "coeff_star_lla = np.copy(clf.coef_)\n",
    "mae_lla = np.mean(np.abs(y_hat_test - y_test))\n",
    "mse_lla = np.mean(np.power(y_hat_test - y_test, 2))\n",
    "norm2_lla = np.linalg.norm(coeff_star_lla, 2)\n",
    "nonzero_lla = np.sum(np.abs(coeff_star_lla) > 1e-7)\n",
    "\n",
    "print('alpha_star_lla', alpha_star_lla)\n",
    "print('mse: ', mse_lla)\n",
    "print('mae: ', mae_lla)\n",
    "print('norm2_lcd: ', norm2_lla)\n",
    "print('nonzero_lcd: ', nonzero_lla)"
   ]
  },
  {
   "cell_type": "code",
   "execution_count": null,
   "metadata": {},
   "outputs": [
    {
     "name": "stdout",
     "output_type": "stream",
     "text": [
      "(750,)\n",
      "(750,)\n"
     ]
    },
    {
     "name": "stderr",
     "output_type": "stream",
     "text": [
      "/home/tallec/miniconda3/envs/neovim3/lib/python3.7/site-packages/sklearn/linear_model/_coordinate_descent.py:532: ConvergenceWarning: Objective did not converge. You might want to increase the number of iterations. Duality gap: 205.533331477484, tolerance: 0.04160724406329821\n",
      "  positive)\n"
     ]
    },
    {
     "data": {
      "text/plain": [
       "(0.75, 3.0, -1.5, 2.0)"
      ]
     },
     "execution_count": 50,
     "metadata": {},
     "output_type": "execute_result"
    },
    {
     "data": {
      "image/png": "[encoded data removed]",
      "text/plain": [
       "<Figure size 1600x800 with 4 Axes>"
      ]
     },
     "metadata": {},
     "output_type": "display_data"
    }
   ],
   "source": [
    "fig, ax = plt.subplots(ncols=4, figsize=(20, 10))\n",
    "print(x_train.shape)\n",
    "print(y_train.shape)\n",
    "\n",
    "for i in range(len(ax)):\n",
    "    ax[i].plot(x_train,y_train, '.', label='groundtruth', markersize=4, color='black')\n",
    "\n",
    "## Ordinary Least Square\n",
    "clf =linear_model.LinearRegression()\n",
    "clf.fit(X_train, y_train)\n",
    "y_hat_test=clf.predict(X_test)\n",
    "coeff=np.copy(clf.coef_)\n",
    "test=coeff!=0\n",
    "Error0=np.mean(abs(y_hat_test-y_test)) \n",
    "N0=np.sum(test)\n",
    "Scale0=np.mean(abs(coeff))\n",
    "ax[0].plot(x_test,y_test,\".\",label=\"Linear\",markevery=5,markersize=10, color='red')\n",
    "ax[0].legend()\n",
    "ax[0].axis([0.75,3,-1.5,2])\n",
    "\n",
    "## Ridge\n",
    "clf =linear_model.Ridge(alpha=alpha_star_ridge)\n",
    "clf.fit(X_train, y_train)\n",
    "y_hat_test=clf.predict(X_test)\n",
    "coeff=np.copy(clf.coef_)\n",
    "test=coeff!=0\n",
    "Error1=np.mean(abs(y_hat_test-y_test)) \n",
    "N1=np.sum(test)\n",
    "Scale1=np.mean(abs(coeff))\n",
    "ax[1].plot(x_test,y_test,\".\",label=\"Ridge\",markevery=5,markersize=10, color='blue')\n",
    "ax[1].legend()\n",
    "ax[1].axis([0.75,3,-1.5,2])\n",
    "\n",
    "## LassoCoordinateDescent\n",
    "clf =linear_model.Lasso(alpha=alpha_star_lcd)\n",
    "clf.fit(X_train, y_train)\n",
    "y_hat_test=clf.predict(X_test)\n",
    "coeff=np.copy(clf.coef_)\n",
    "test=coeff!=0\n",
    "Error2=np.mean(abs(y_hat_test-y_test)) \n",
    "N2=np.sum(test)\n",
    "Scale2=np.mean(abs(coeff))\n",
    "ax[2].plot(x_test,y_test,\".\",label=\"Lasso CD\",markevery=5,markersize=10, color='green')\n",
    "ax[2].legend()\n",
    "ax[2].axis([0.75,3,-1.5,2])\n",
    "\n",
    "## LassoLars\n",
    "clf =linear_model.LassoLars(alpha=alpha_star_lla)\n",
    "clf.fit(X_train, y_train)\n",
    "y_hat_test=clf.predict(X_test)\n",
    "coeff=np.copy(clf.coef_)\n",
    "test=coeff!=0\n",
    "Error3=np.mean(abs(y_hat_test-y_test)) \n",
    "N3=np.sum(test)\n",
    "Scale3=np.mean(abs(coeff))\n",
    "ax[3].plot(x_test,y_test,\".\",label=\"LassoLars\",markevery=5,markersize=10, color='yellow')\n",
    "ax[3].legend()\n",
    "ax[3].axis([0.75,3,-1.5,2])\n",
    "\n",
    "## More plot settings and figure saving\n",
    "# handles, labels = ax.get_legend_handles_labels()\n",
    "# ax.legend(handles, labels,loc=\"upper center\",bbox_to_anchor=(0.5, 1.55),ncol=2,fontsize = 'x-small')\n",
    "plt.axis()\n",
    "\n",
    "\n",
    "\n"
   ]
  },
  {
   "cell_type": "code",
   "execution_count": null,
   "metadata": {},
   "outputs": [
    {
     "name": "stdout",
     "output_type": "stream",
     "text": [
      "########################\n",
      "Method Error N_coeff \n",
      "Linear 0.32593230200399687 576 57660446462.9137\n",
      "Ridge 0.2973296013394378 576 133.05418817174922\n",
      "Lasso 0.29295104491668517 287 1.143277187502819\n",
      "LassoLars 0.29599580092046723 17 3399245513615194.0\n"
     ]
    }
   ],
   "source": [
    "print (\"########################\")\n",
    "\n",
    "print (\"Method Error N_coeff \")\n",
    "print (\"Linear\", Error0, N0,Scale0)\n",
    "print (\"Ridge\", Error1, N1,Scale1) \n",
    "print (\"Lasso\", Error2, N2,Scale2)\n",
    "print (\"LassoLars\", Error3, N3,Scale3)\n"
   ]
  },
  {
   "cell_type": "code",
   "execution_count": null,
   "metadata": {},
   "outputs": [],
   "source": []
  }
 ],
 "metadata": {
  "kernelspec": {
   "display_name": "Python 3",
   "language": "python",
   "name": "python3"
  },
  "language_info": {
   "codemirror_mode": {
    "name": "ipython",
    "version": 3
   },
   "file_extension": ".py",
   "mimetype": "text/x-python",
   "name": "python",
   "nbconvert_exporter": "python",
   "pygments_lexer": "ipython3",
   "version": "3.10.9"
  }
 },
 "nbformat": 4,
 "nbformat_minor": 4
}
