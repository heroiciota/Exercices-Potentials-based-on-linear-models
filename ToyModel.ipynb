{
 "cells": [
  {
   "cell_type": "code",
   "execution_count": 1,
   "metadata": {},
   "outputs": [
    {
     "name": "stderr",
     "output_type": "stream",
     "text": [
      "In /home/tallec/miniconda3/envs/neovim3/lib/python3.7/site-packages/matplotlib/mpl-data/stylelib/_classic_test.mplstyle: \n",
      "The text.latex.preview rcparam was deprecated in Matplotlib 3.3 and will be removed two minor releases later.\n",
      "In /home/tallec/miniconda3/envs/neovim3/lib/python3.7/site-packages/matplotlib/mpl-data/stylelib/_classic_test.mplstyle: \n",
      "The mathtext.fallback_to_cm rcparam was deprecated in Matplotlib 3.3 and will be removed two minor releases later.\n",
      "In /home/tallec/miniconda3/envs/neovim3/lib/python3.7/site-packages/matplotlib/mpl-data/stylelib/_classic_test.mplstyle: Support for setting the 'mathtext.fallback_to_cm' rcParam is deprecated since 3.3 and will be removed two minor releases later; use 'mathtext.fallback : 'cm' instead.\n",
      "In /home/tallec/miniconda3/envs/neovim3/lib/python3.7/site-packages/matplotlib/mpl-data/stylelib/_classic_test.mplstyle: \n",
      "The validate_bool_maybe_none function was deprecated in Matplotlib 3.3 and will be removed two minor releases later.\n",
      "In /home/tallec/miniconda3/envs/neovim3/lib/python3.7/site-packages/matplotlib/mpl-data/stylelib/_classic_test.mplstyle: \n",
      "The savefig.jpeg_quality rcparam was deprecated in Matplotlib 3.3 and will be removed two minor releases later.\n",
      "In /home/tallec/miniconda3/envs/neovim3/lib/python3.7/site-packages/matplotlib/mpl-data/stylelib/_classic_test.mplstyle: \n",
      "The keymap.all_axes rcparam was deprecated in Matplotlib 3.3 and will be removed two minor releases later.\n",
      "In /home/tallec/miniconda3/envs/neovim3/lib/python3.7/site-packages/matplotlib/mpl-data/stylelib/_classic_test.mplstyle: \n",
      "The animation.avconv_path rcparam was deprecated in Matplotlib 3.3 and will be removed two minor releases later.\n",
      "In /home/tallec/miniconda3/envs/neovim3/lib/python3.7/site-packages/matplotlib/mpl-data/stylelib/_classic_test.mplstyle: \n",
      "The animation.avconv_args rcparam was deprecated in Matplotlib 3.3 and will be removed two minor releases later.\n"
     ]
    }
   ],
   "source": [
    "import matplotlib.pyplot as plt\n",
    "import matplotlib as mpl\n",
    "plt.style.use('classic')\n",
    "import numpy as np\n",
    "import sklearn\n",
    "from sklearn import linear_model\n",
    "from statistics import stdev, mean\n",
    "from sklearn.feature_selection import chi2\n",
    "import subprocess\n",
    "\n"
   ]
  },
  {
   "cell_type": "code",
   "execution_count": 2,
   "metadata": {},
   "outputs": [],
   "source": [
    "## Definition of the Gaussian function\n",
    "def G(x, mu, sigma):\n",
    "    return np.exp(-np.power((x - mu)/sigma, 2) * (1/2))\n",
    "\n",
    "## Definition of the Lennard-Jones function\n",
    "def LJ(x,sigma,E):\n",
    "    return 4*E*((sigma/x)**12.0-(sigma/x)**6.0)"
   ]
  },
  {
   "cell_type": "code",
   "execution_count": 34,
   "metadata": {},
   "outputs": [
    {
     "data": {
      "image/png": "[encoded data removed]",
      "text/plain": [
       "<Figure size 640x480 with 1 Axes>"
      ]
     },
     "metadata": {},
     "output_type": "display_data"
    }
   ],
   "source": [
    "## Dataset Definition\n",
    "# Train\n",
    "N_train = 750\n",
    "x_train = np.random.uniform(low=0.9, high=3.0, size=(N_train,))\n",
    "y_train = LJ(x_train, 1, 1)\n",
    "plt.scatter(x_train, y_train, color='red', label='train')\n",
    "\n",
    "# Valid\n",
    "N_valid = 250\n",
    "x_valid = np.random.uniform(low=0.9, high=3.0, size=(N_valid,))\n",
    "y_valid = LJ(x_valid, 1, 1)\n",
    "plt.scatter(x_valid, y_valid, color='blue', label='valid')\n",
    "\n",
    "# Test\n",
    "N_test = 250\n",
    "x_test = np.random.uniform(low=0.9, high=3.0, size=(N_test,))\n",
    "y_test = LJ(x_test, 1, 1)\n",
    "plt.scatter(x_test, y_test, color='green', label='test')\n",
    "plt.legend()\n",
    "plt.show()"
   ]
  },
  {
   "cell_type": "code",
   "execution_count": 4,
   "metadata": {},
   "outputs": [],
   "source": [
    "# Parameters for feature functions\n",
    "\n",
    "# [mu_1, ..., mu_n]\n",
    "mu_min = 0.2\n",
    "mu_max = 5.0\n",
    "dmu = 0.2\n",
    "mus=np.arange(mu_min, mu_max, dmu)\n",
    "\n",
    "\n",
    "# [s_1, ..., s_m]\n",
    "sigma_min = 0.2\n",
    "sigma_max = 5.0\n",
    "dsigma = 0.2\n",
    "sigmas = np.arange(sigma_min,sigma_max,dsigma)\n",
    "\n",
    "# Make grid of means and variances\n",
    "MUs, SIGMAs = np.meshgrid(mus, sigmas)\n",
    "\n",
    "# flatten the grid so to get a lists of D = nm gaussian parameters : [mu_1, ..., mu_{D}], [s_1, ..., s_{D}]\n",
    "MUs = MUs.reshape(mus.shape[0] * sigmas.shape[0])\n",
    "SIGMAs = SIGMAs.reshape(sigmas.shape[0] * sigmas.shape[0])"
   ]
  },
  {
   "cell_type": "code",
   "execution_count": 5,
   "metadata": {},
   "outputs": [
    {
     "name": "stdout",
     "output_type": "stream",
     "text": [
      "(750, 576)\n",
      "(250, 576)\n"
     ]
    }
   ],
   "source": [
    "def feature_matrix(x, MUs, SIGMAs):\n",
    "    \"\"\"\n",
    "    Ins:\n",
    "    x: input data of size N,\n",
    "    MUs: D 1-d gaussian means \n",
    "    SIGMAs: D 1-d gaussian standard deviation\n",
    "    Outs:\n",
    "    X: feature matrix of size (N, D)\n",
    "    \"\"\"\n",
    "    D = MUs.shape[0]\n",
    "    N = x.shape[0]\n",
    "    \n",
    "    \"\"\"\n",
    "    Duplicate x, D times so to get x_tiled of size (N, D)\n",
    "    x_tiled = [[x1 x1 ... x1],\n",
    "               [x2 x2 ... x2],\n",
    "               [............],\n",
    "               [xN xN ... xN]]\n",
    "    \"\"\"\n",
    "    x_tiled = np.tile(x[:, np.newaxis], (1, D))\n",
    "    \n",
    "    \"\"\"\n",
    "    Duplicate MU, N times so to get MUs_tiled of size (N, D)\n",
    "    x_tiled = [[mu1 mu2 ... muD],\n",
    "               [mu1 mu2 ... muD],\n",
    "               [...............],\n",
    "               [mu1 mu2 ... muD]]\n",
    "    \"\"\"\n",
    "    MUs_tiled = np.tile(MUs[np.newaxis, :], (N, 1))\n",
    "    \"\"\"\n",
    "    Duplicate SIGMA, N times so to get SIGMAs_tiled of size (N, D)\n",
    "    SIGMA_s_tiled = [[s1 s2 ... sD],\n",
    "                     [s1 s2 ... sD],\n",
    "                     [............],\n",
    "                     [s1 s2 ... sD]]\n",
    "    \"\"\"\n",
    "    SIGMAs_tiled = np.tile(SIGMAs[np.newaxis, :], (N, 1))\n",
    "    \n",
    "    \"\"\"\n",
    "    Matricially compute gaussian features :\n",
    "    X = [[G(x1; mu1, s1), ..., G(x1; muD, sD)],\n",
    "         [G(x2; mu1, s1), ..., G(x2; muD, sD)],\n",
    "         [...................................],\n",
    "         [G(xN; mu1, s1), ..., G(xN; muD, sD)]]\n",
    "    \"\"\"\n",
    "    \n",
    "    return G(x_tiled, MUs_tiled, SIGMAs_tiled)\n",
    "\n",
    "X_train = feature_matrix(x_train, MUs, SIGMAs)\n",
    "X_valid = feature_matrix(x_valid, MUs, SIGMAs)\n",
    "X_test = feature_matrix(x_test, MUs, SIGMAs)\n",
    "print(X_train.shape)\n",
    "print(X_test.shape)"
   ]
  },
  {
   "cell_type": "code",
   "execution_count": 6,
   "metadata": {},
   "outputs": [
    {
     "name": "stdout",
     "output_type": "stream",
     "text": [
      "mse_ols 1.8763772153362118e-15\n",
      "mae_ols 2.0216613319586074e-08\n",
      "n_coeff 576\n"
     ]
    }
   ],
   "source": [
    "## OLS: Doesn't require hyperparametrization\n",
    "\n",
    "## Ordinary Least Square\n",
    "# Train\n",
    "clf = linear_model.LinearRegression()\n",
    "clf.fit(X_train, y_train)\n",
    "\n",
    "# Test Prediction\n",
    "y_hat_test=clf.predict(X_test)\n",
    "coeff=np.copy(clf.coef_)\n",
    "\n",
    "# Performance Evaluation\n",
    "n_coeff = np.sum((coeff != 0))\n",
    "mse_ols = np.mean(np.power(y_hat_test - y_test, 2))\n",
    "mae_ols = np.mean(np.abs(y_hat_test - y_test))\n",
    "\n",
    "print('mse_ols', mse_ols)\n",
    "print('mae_ols', mae_ols)\n",
    "print('n_coeff', n_coeff)\n"
   ]
  },
  {
   "cell_type": "code",
   "execution_count": 46,
   "metadata": {},
   "outputs": [
    {
     "name": "stdout",
     "output_type": "stream",
     "text": [
      "mse:  0.4762864450813664\n",
      "norm2:  0.6611193752072324\n",
      "alpha_star_ridge:  1.0\n",
      "coeff_star_ridge:  [ 0.00118836  0.01510264  0.03035946 -0.1115946   0.00635574  0.25123658\n",
      " -0.36216003  0.20348616  0.06449178 -0.21329847]\n",
      "non_zero 572\n"
     ]
    }
   ],
   "source": [
    "## Ridge : hypertune alpha\n",
    "\n",
    "# Validation\n",
    "validation_alphas = np.power(0.1, np.arange(0, 10))\n",
    "mse_ridge_valid = []\n",
    "mae_ridge_valid = []\n",
    "coeffs_ridge = []\n",
    "norm2_ridge = []\n",
    "\n",
    "# Train for different values of alpha and store result\n",
    "for validation_alpha in validation_alphas:\n",
    "    clf = sklearn.linear_model.Ridge(alpha=validation_alpha)\n",
    "    clf.fit(X_train, y_train)\n",
    "    y_hat_valid = clf.predict(X_valid)\n",
    "    coeff_ridge = np.copy(clf.coef_)\n",
    "    \n",
    "    mae_ridge = np.mean(np.abs(y_hat_valid - y_valid))\n",
    "    mse_ridge = np.mean(np.power(y_hat_valid - y_valid, 2))\n",
    "    \n",
    "    mae_ridge_valid.append(mae_ridge)\n",
    "    mse_ridge_valid.append(mse_ridge)\n",
    "    norm2_ridge.append(np.linalg.norm(coeff_ridge, 2))\n",
    "    coeffs_ridge.append(coeff_ridge)\n",
    "\n",
    "# Choose alpha with lowest mse.\n",
    "alpha_star_ridge = validation_alphas[np.argmin(mse_ridge_valid)]\n",
    "\n",
    "#Train\n",
    "clf = sklearn.linear_model.Ridge(alpha=alpha_star_ridge)\n",
    "clf.fit(X_train, y_train)\n",
    "\n",
    "# Test Prediction\n",
    "y_hat_test = clf.predict(X_test)\n",
    "coeff_star_ridge = np.copy(clf.coef_)\n",
    "\n",
    "# Performance Evaluation\n",
    "mae_ridge = np.mean(np.abs(y_hat_test - y_test))\n",
    "mse_ridge = np.mean(np.power(y_hat_test - y_test, 2))\n",
    "norm2_ridge = np.linalg.norm(coeff_star_ridge, 2)\n",
    "nonzero_ridge = np.sum(np.abs(coeff_star_ridge) > 1e-7)\n",
    "\n",
    "print('mse: ', mse_ridge)\n",
    "print('norm2: ', norm2_ridge)\n",
    "print('alpha_star_ridge: ', alpha_star_ridge)\n",
    "print('coeff_star_ridge: ', coeff_star_ridge[:10])\n",
    "print('non_zero', nonzero_ridge)"
   ]
  },
  {
   "cell_type": "code",
   "execution_count": 13,
   "metadata": {},
   "outputs": [
    {
     "name": "stdout",
     "output_type": "stream",
     "text": [
      "alpha_star:  1.0000000000000005e-08\n",
      "mse:  7.357873664201694e-06\n",
      "mae:  0.0017818259567760752\n",
      "norm2_lcd:  3464.0639455065875\n",
      "nonzero_lcd:  483\n"
     ]
    }
   ],
   "source": [
    "## LASSO_CD\n",
    "validation_alphas = np.power(0.1, np.arange(0, 10))\n",
    "mse_lcd_valid = []\n",
    "mae_lcd_valid = []\n",
    "coeffs_lcd = []\n",
    "norm2_lcd = []\n",
    "for validation_alpha in validation_alphas:\n",
    "    clf = sklearn.linear_model.Lasso(alpha=validation_alpha, max_iter=1e5)\n",
    "    clf.fit(X_train, y_train)\n",
    "    y_hat_valid = clf.predict(X_valid)\n",
    "    coeff_lcd = np.copy(clf.coef_)\n",
    "    \n",
    "    mae_lcd = np.mean(np.abs(y_hat_valid - y_valid))\n",
    "    mse_lcd = np.mean(np.power(y_hat_valid - y_valid, 2))\n",
    "    \n",
    "    mae_lcd_valid.append(mae_lcd)\n",
    "    mse_lcd_valid.append(mse_lcd)\n",
    "    norm2_lcd.append(np.linalg.norm(coeff_lcd, 2))\n",
    "    coeffs_lcd.append(coeff_lcd)\n",
    "    \n",
    "alpha_star_lcd = validation_alphas[np.argmin(mse_lcd_valid)]\n",
    "clf = sklearn.linear_model.Lasso(alpha=alpha_star_lcd, max_iter=1e5)\n",
    "clf.fit(X_train, y_train)\n",
    "y_hat_test = clf.predict(X_test)\n",
    "coeff_star_lcd = np.copy(clf.coef_)\n",
    "mae_lcd = np.mean(np.abs(y_hat_test - y_test))\n",
    "mse_lcd = np.mean(np.power(y_hat_test - y_test, 2))\n",
    "norm2_lcd = np.linalg.norm(coeff_star_lcd, 2)\n",
    "nonzero_lcd = np.sum(np.abs(coeff_star_lcd) > 1e-7)\n",
    "\n",
    "print('alpha_star: ', alpha_star_lcd)\n",
    "print('mse: ', mse_lcd)\n",
    "print('mae: ', mae_lcd)\n",
    "print('norm2_lcd: ', norm2_lcd)\n",
    "print('nonzero_lcd: ', nonzero_lcd)"
   ]
  },
  {
   "cell_type": "code",
   "execution_count": 14,
   "metadata": {},
   "outputs": [
    {
     "name": "stdout",
     "output_type": "stream",
     "text": [
      "alpha_star_lla 1.0000000000000005e-09\n",
      "mse:  4.107811397471394e-06\n",
      "mae:  0.0007522151976336502\n",
      "norm2_lcd:  7780431.034704701\n",
      "nonzero_lcd:  13\n"
     ]
    }
   ],
   "source": [
    "## LASSO_LARS\n",
    "validation_alphas = np.power(0.1, np.arange(0, 10))\n",
    "mse_lla_valid = []\n",
    "mae_lla_valid = []\n",
    "coeffs_lla = []\n",
    "norm2_lla = []\n",
    "for validation_alpha in validation_alphas:\n",
    "    clf = sklearn.linear_model.LassoLars(alpha=validation_alpha)\n",
    "    clf.fit(X_train, y_train)\n",
    "    y_hat_valid = clf.predict(X_valid)\n",
    "    coeff_lla = np.copy(clf.coef_)\n",
    "    \n",
    "    mae_lla = np.mean(np.abs(y_hat_valid - y_valid))\n",
    "    mse_lla = np.mean(np.power(y_hat_valid - y_valid, 2))\n",
    "    \n",
    "    mae_lla_valid.append(mae_lla)\n",
    "    mse_lla_valid.append(mse_lla)\n",
    "    norm2_lla.append(np.linalg.norm(coeff_lla, 2))\n",
    "    coeffs_lla.append(coeff_lla)\n",
    "    \n",
    "alpha_star_lla = validation_alphas[np.argmin(mse_lla_valid)]\n",
    "clf = sklearn.linear_model.LassoLars(alpha=alpha_star_lla)\n",
    "clf.fit(X_train, y_train)\n",
    "y_hat_test = clf.predict(X_test)\n",
    "coeff_star_lla = np.copy(clf.coef_)\n",
    "mae_lla = np.mean(np.abs(y_hat_test - y_test))\n",
    "mse_lla = np.mean(np.power(y_hat_test - y_test, 2))\n",
    "norm2_lla = np.linalg.norm(coeff_star_lla, 2)\n",
    "nonzero_lla = np.sum(np.abs(coeff_star_lla) > 1e-7)\n",
    "\n",
    "print('alpha_star_lla', alpha_star_lla)\n",
    "print('mse: ', mse_lla)\n",
    "print('mae: ', mae_lla)\n",
    "print('norm2_lcd: ', norm2_lla)\n",
    "print('nonzero_lcd: ', nonzero_lla)"
   ]
  },
  {
   "cell_type": "code",
   "execution_count": 50,
   "metadata": {},
   "outputs": [
    {
     "name": "stdout",
     "output_type": "stream",
     "text": [
      "(750,)\n",
      "(750,)\n"
     ]
    },
    {
     "name": "stderr",
     "output_type": "stream",
     "text": [
      "/home/tallec/miniconda3/envs/neovim3/lib/python3.7/site-packages/sklearn/linear_model/_coordinate_descent.py:532: ConvergenceWarning: Objective did not converge. You might want to increase the number of iterations. Duality gap: 205.533331477484, tolerance: 0.04160724406329821\n",
      "  positive)\n"
     ]
    },
    {
     "data": {
      "text/plain": [
       "(0.75, 3.0, -1.5, 2.0)"
      ]
     },
     "execution_count": 50,
     "metadata": {},
     "output_type": "execute_result"
    },
    {
     "data": {
      "image/png": "[encoded data removed]",
      "text/plain": [
       "<Figure size 1600x800 with 4 Axes>"
      ]
     },
     "metadata": {},
     "output_type": "display_data"
    }
   ],
   "source": [
    "fig, ax = plt.subplots(ncols=4, figsize=(20, 10))\n",
    "print(x_train.shape)\n",
    "print(y_train.shape)\n",
    "\n",
    "for i in range(len(ax)):\n",
    "    ax[i].plot(x_train,y_train, '.', label='groundtruth', markersize=4, color='black')\n",
    "\n",
    "## Ordinary Least Square\n",
    "clf =linear_model.LinearRegression()\n",
    "clf.fit(X_train, y_train)\n",
    "y_hat_test=clf.predict(X_test)\n",
    "coeff=np.copy(clf.coef_)\n",
    "test=coeff!=0\n",
    "Error0=np.mean(abs(y_hat_test-y_test)) \n",
    "N0=np.sum(test)\n",
    "Scale0=np.mean(abs(coeff))\n",
    "ax[0].plot(x_test,y_test,\".\",label=\"Linear\",markevery=5,markersize=10, color='red')\n",
    "ax[0].legend()\n",
    "ax[0].axis([0.75,3,-1.5,2])\n",
    "\n",
    "## Ridge\n",
    "clf =linear_model.Ridge(alpha=alpha_star_ridge)\n",
    "clf.fit(X_train, y_train)\n",
    "y_hat_test=clf.predict(X_test)\n",
    "coeff=np.copy(clf.coef_)\n",
    "test=coeff!=0\n",
    "Error1=np.mean(abs(y_hat_test-y_test)) \n",
    "N1=np.sum(test)\n",
    "Scale1=np.mean(abs(coeff))\n",
    "ax[1].plot(x_test,y_test,\".\",label=\"Ridge\",markevery=5,markersize=10, color='blue')\n",
    "ax[1].legend()\n",
    "ax[1].axis([0.75,3,-1.5,2])\n",
    "\n",
    "## LassoCoordinateDescent\n",
    "clf =linear_model.Lasso(alpha=alpha_star_lcd)\n",
    "clf.fit(X_train, y_train)\n",
    "y_hat_test=clf.predict(X_test)\n",
    "coeff=np.copy(clf.coef_)\n",
    "test=coeff!=0\n",
    "Error2=np.mean(abs(y_hat_test-y_test)) \n",
    "N2=np.sum(test)\n",
    "Scale2=np.mean(abs(coeff))\n",
    "ax[2].plot(x_test,y_test,\".\",label=\"Lasso CD\",markevery=5,markersize=10, color='green')\n",
    "ax[2].legend()\n",
    "ax[2].axis([0.75,3,-1.5,2])\n",
    "\n",
    "## LassoLars\n",
    "clf =linear_model.LassoLars(alpha=alpha_star_lla)\n",
    "clf.fit(X_train, y_train)\n",
    "y_hat_test=clf.predict(X_test)\n",
    "coeff=np.copy(clf.coef_)\n",
    "test=coeff!=0\n",
    "Error3=np.mean(abs(y_hat_test-y_test)) \n",
    "N3=np.sum(test)\n",
    "Scale3=np.mean(abs(coeff))\n",
    "ax[3].plot(x_test,y_test,\".\",label=\"LassoLars\",markevery=5,markersize=10, color='yellow')\n",
    "ax[3].legend()\n",
    "ax[3].axis([0.75,3,-1.5,2])\n",
    "\n",
    "## More plot settings and figure saving\n",
    "# handles, labels = ax.get_legend_handles_labels()\n",
    "# ax.legend(handles, labels,loc=\"upper center\",bbox_to_anchor=(0.5, 1.55),ncol=2,fontsize = 'x-small')\n",
    "plt.axis()\n",
    "\n",
    "\n",
    "\n"
   ]
  },
  {
   "cell_type": "code",
   "execution_count": 47,
   "metadata": {},
   "outputs": [
    {
     "name": "stdout",
     "output_type": "stream",
     "text": [
      "########################\n",
      "Method Error N_coeff \n",
      "Linear 0.32593230200399687 576 57660446462.9137\n",
      "Ridge 0.2973296013394378 576 133.05418817174922\n",
      "Lasso 0.29295104491668517 287 1.143277187502819\n",
      "LassoLars 0.29599580092046723 17 3399245513615194.0\n"
     ]
    }
   ],
   "source": [
    "print (\"########################\")\n",
    "\n",
    "print (\"Method Error N_coeff \")\n",
    "print (\"Linear\", Error0, N0,Scale0)\n",
    "print (\"Ridge\", Error1, N1,Scale1) \n",
    "print (\"Lasso\", Error2, N2,Scale2)\n",
    "print (\"LassoLars\", Error3, N3,Scale3)\n"
   ]
  },
  {
   "cell_type": "code",
   "execution_count": null,
   "metadata": {},
   "outputs": [],
   "source": []
  }
 ],
 "metadata": {
  "kernelspec": {
   "display_name": "Python 3",
   "language": "python",
   "name": "python3"
  },
  "language_info": {
   "codemirror_mode": {
    "name": "ipython",
    "version": 3
   },
   "file_extension": ".py",
   "mimetype": "text/x-python",
   "name": "python",
   "nbconvert_exporter": "python",
   "pygments_lexer": "ipython3",
   "version": "3.7.7"
  }
 },
 "nbformat": 4,
 "nbformat_minor": 4
}
