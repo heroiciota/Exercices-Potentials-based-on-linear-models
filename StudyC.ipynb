{
 "cells": [
  {
   "cell_type": "code",
   "execution_count": 1,
   "metadata": {},
   "outputs": [],
   "source": [
    "import sklearn\n",
    "from sklearn import linear_model\n",
    "from sklearn.feature_selection import chi2\n",
    "from sklearn.metrics import mean_squared_error\n",
    "from sklearn.metrics import mean_absolute_error\n",
    "import matplotlib.pyplot as plt\n",
    "import numpy as np\n",
    "import PyGnuplot as gp\n",
    "import glob\n",
    "import os\n",
    "import random\n",
    "import time \n",
    "sigma=3.504              #Parameters for LJ of Argon\n",
    "kbT=0.010142612711"
   ]
  },
  {
   "cell_type": "code",
   "execution_count": 2,
   "metadata": {},
   "outputs": [],
   "source": [
    "### Descriptor functions ###\n",
    "\n",
    "# Lennard-Jones function\n",
    "def LJ(r,sigma):\n",
    "    return 4.0*((r/sigma)**(-12.0) - (r/sigma)**(-6.0))\n",
    "\n",
    "# Gaussian Function\n",
    "rcut=9\n",
    "def gaussian(r,p,q):\n",
    "    return np.exp(-p*(r-q)*(r-q))*0.5*(1+np.cos(np.pi*(r/rcut)))\n",
    "\n",
    "list_Gauss=[]\n",
    "for a in np.arange(0.5,2.5+0.001,0.25):\n",
    "    for b in np.arange(2,10+0.001,0.5):\n",
    "        list_Gauss=np.concatenate((list_Gauss,[a,b]))\n",
    "list_Gauss=np.reshape(list_Gauss,(int(np.size(list_Gauss)/2),2))\n",
    "\n",
    "list_LJ=[]\n",
    "for a in np.arange(0.7,2+0.00001,0.02):\n",
    "        list_LJ=np.concatenate((list_LJ,[a,1]))\n",
    "list_LJ=np.reshape(list_LJ,(int(np.size(list_LJ)/2),2))"
   ]
  },
  {
   "cell_type": "code",
   "execution_count": 3,
   "metadata": {},
   "outputs": [],
   "source": [
    "#### Read functions  #####\n",
    "def readFile(input_file):\n",
    "    Y=np.genfromtxt(input_file,invalid_raise=False, usecols=[5,6,7],dtype=float,skip_header=9)\n",
    "    Y=Y.reshape(1, 3*np.shape(Y)[0])\n",
    "    Y=Y[0]\n",
    "    \n",
    "    list_bin=[]\n",
    "    for i_type in list_itype: \n",
    "        search=input_file[:-10]+\"_f\"+str(i_type)+\"_*bin\"\n",
    "        search=search.replace(\"Input\",\"Input_\"+str(i_type))\n",
    "        list_bin=np.append(list_bin,sorted(glob.glob(search)))\n",
    "    \n",
    "    XMAT=np.genfromtxt(list_bin[0])\n",
    "    XMAT=np.transpose(XMAT)\n",
    "    for input_bin in list_bin[1:]: \n",
    "        XMAT_tmp=np.genfromtxt(input_bin)\n",
    "        XMAT_tmp=np.transpose(XMAT_tmp)\n",
    "        XMAT=np.concatenate((XMAT,XMAT_tmp),axis=1)\n",
    "        \n",
    "    return(XMAT,Y) "
   ]
  },
  {
   "cell_type": "code",
   "execution_count": 4,
   "metadata": {},
   "outputs": [],
   "source": [
    "#Select the database\n",
    "\n",
    "list_itype=['1','2']  # 1=Gaussian 2=Lennard-Jones\n",
    "str_type=''\n",
    "for i in range(np.size(list_itype)):\n",
    "    str_type=str_type+list_itype[i]"
   ]
  },
  {
   "cell_type": "code",
   "execution_count": 7,
   "metadata": {
    "scrolled": false
   },
   "outputs": [
    {
     "name": "stdout",
     "output_type": "stream",
     "text": [
      "Training is done with\n",
      "Input/1_Liq.13.lammpstrj\n",
      "Input/1_Liq.18.lammpstrj\n",
      "Input/1_Liq.22.lammpstrj\n",
      "Input/1_Liq.27.lammpstrj\n",
      "Input/1_Liq.31.lammpstrj\n",
      "Input/1_Liq.36.lammpstrj\n",
      "Input/1_Liq.40.lammpstrj\n",
      "Input/1_Liq.45.lammpstrj\n",
      "Input/1_Liq.5.lammpstrj\n",
      "Input/2_Crys.0.lammpstrj\n",
      "Input/2_Crys.13.lammpstrj\n",
      "Input/2_Crys.18.lammpstrj\n",
      "Input/2_Crys.22.lammpstrj\n",
      "Input/2_Crys.27.lammpstrj\n",
      "Input/2_Crys.31.lammpstrj\n",
      "Input/2_Crys.36.lammpstrj\n",
      "Input/2_Crys.40.lammpstrj\n",
      "Input/2_Crys.45.lammpstrj\n",
      "Input/3_Clus.0.lammpstrj\n",
      "Input/3_Clus.13.lammpstrj\n",
      "Input/3_Clus.18.lammpstrj\n",
      "Input/3_Clus.22.lammpstrj\n",
      "Input/3_Clus.27.lammpstrj\n",
      "Input/3_Clus.31.lammpstrj\n",
      "Input/3_Clus.36.lammpstrj\n",
      "Input/3_Clus.40.lammpstrj\n",
      "Input/3_Clus.45.lammpstrj\n",
      "Input/3_Clus.5.lammpstrj\n",
      "Input/4_Def.13.lammpstrj\n",
      "Input/4_Def.18.lammpstrj\n",
      "Input/4_Def.22.lammpstrj\n",
      "Input/4_Def.31.lammpstrj\n",
      "Input/4_Def.40.lammpstrj\n",
      "Input/4_Def.45.lammpstrj\n",
      "Input/4_Def.5.lammpstrj\n",
      "\n",
      "Testing  is done with\n",
      "Input/4_Def.0.lammpstrj\n",
      "Input/4_Def.27.lammpstrj\n",
      "Input/4_Def.36.lammpstrj\n"
     ]
    }
   ],
   "source": [
    "#### Data reading #### \n",
    "list_files=sorted(glob.glob(\"Input/*.lammpstrj\"))[::5]\n",
    "N_files=np.size(list_files)\n",
    "list_Train=sorted(random.sample(range(N_files),int(0.9*N_files)))   #Spliting between Train and Test\n",
    "list_Test=sorted(np.delete(range(N_files),list_Train))\n",
    "list_Train=[list_files[i] for i in list_Train]\n",
    "list_Test=[list_files[i] for i in list_Test]\n",
    "\n",
    "#Reading Train samples\n",
    "print (\"Training is done with\")\n",
    "input_file=list_Train[0]\n",
    "XMAT_Train,Y_Train=readFile(input_file)\n",
    "for input_file in list_Train[1:]: \n",
    "    print (input_file)\n",
    "    XMAT_tmp,Y_tmp=readFile(input_file)\n",
    "    XMAT_Train=np.concatenate((XMAT_Train,XMAT_tmp),axis=0)\n",
    "    Y_Train=np.append(Y_Train,Y_tmp)\n",
    "\n",
    "#Reading Test samples\n",
    "print (\"\")\n",
    "print (\"Testing  is done with\")\n",
    "input_file=list_Test[0]\n",
    "XMAT_Test,Y_Test=readFile(input_file)\n",
    "for input_file in list_Test[1:]: \n",
    "    print (input_file)\n",
    "    XMAT_tmp,Y_tmp=readFile(input_file)\n",
    "    XMAT_Test=np.concatenate((XMAT_Test,XMAT_tmp),axis=0)\n",
    "    Y_Test=np.append(Y_Test,Y_tmp)\n"
   ]
  },
  {
   "cell_type": "code",
   "execution_count": null,
   "metadata": {},
   "outputs": [],
   "source": [
    "#### Fitting from Lasso to Ridge #### \n",
    "alpha=1e-7\n",
    "for ratio in (0.00,0.50,1.00):\n",
    "    clf =linear_model.ElasticNet(alpha=alpha,l1_ratio=ratio)\n",
    "    clf.fit(XMAT_Train, Y_Train)\n",
    "    coeff=np.copy(clf.coef_)\n",
    "    \n",
    "    # Score/RMSE/MAS\n",
    "    Y_OUT_Train=clf.predict(XMAT_Train)\n",
    "    Y_OUT_Test=clf.predict(XMAT_Test)\n",
    "    scoreTrain=clf.score(XMAT_Train, Y_Train)\n",
    "    scoreTest=clf.score(XMAT_Test, Y_Test)\n",
    "    RMSE_Train=np.sqrt(mean_squared_error(Y_OUT_Train,Y_Train))\n",
    "    RMSE_Test=np.sqrt(mean_squared_error(Y_OUT_Test,Y_Test))\n",
    "    MAS_Train=mean_absolute_error(Y_OUT_Train,Y_Train)\n",
    "    MAS_Test=mean_absolute_error(Y_OUT_Test,Y_Test)\n",
    "    \n",
    "    print (alpha, scoreTrain,scoreTest,RMSE_Train,RMSE_Test, sum(abs(coeff)>1E-10), np.size(coeff)) \n",
    "\n",
    "    output_file=\"Coeff\"+str(ratio)+\"_\"+str_type+\".txt\"\n",
    "    with open(output_file,'w') as fw:    \n",
    "        for i in np.arange(np.size(coeff)):\n",
    "            fw.write(\"%g %g\\n\"%(i,coeff[i]))\n",
    "\n",
    "    output_file=\"ResultsTest\"+str(ratio)+\"_\"+str_type+\".txt\"\n",
    "    with open(output_file,'w') as fw:    \n",
    "        for i in np.arange(np.size(Y_Test)):\n",
    "            fw.write(\"%g %g %g \\n\"%(i,Y_Test[i],Y_OUT_Test[i]))\n",
    "    \n",
    "    output_file=\"ResultsTrain\"+str(ratio)+\"_\"+str_type+\".txt\"\n",
    "    with open(output_file,'w') as fw:    \n",
    "        for i in np.arange(np.size(Y_Train)):\n",
    "            fw.write(\"%g %g %g \\n\"%(i,Y_Train[i],Y_OUT_Train[i]))"
   ]
  },
  {
   "cell_type": "code",
   "execution_count": 10,
   "metadata": {},
   "outputs": [
    {
     "name": "stdout",
     "output_type": "stream",
     "text": [
      "1e-07 0.9999868801090451 0.9999945880034787 0.0001915434751010273 0.00016878860343828248 63 6165\n"
     ]
    }
   ],
   "source": [
    "alpha=1e-7\n",
    "#### Fitting from Lasso to Ridge #### \n",
    "clf =linear_model.LassoLars(alpha)\n",
    "clf.fit(XMAT_Train, Y_Train)\n",
    "coeff=np.copy(clf.coef_)\n",
    "\n",
    "# Score/RMSE/MAS\n",
    "Y_OUT_Train=clf.predict(XMAT_Train)\n",
    "Y_OUT_Test=clf.predict(XMAT_Test)\n",
    "scoreTrain=clf.score(XMAT_Train, Y_Train)\n",
    "scoreTest=clf.score(XMAT_Test, Y_Test)\n",
    "RMSE_Train=np.sqrt(mean_squared_error(Y_OUT_Train,Y_Train))\n",
    "RMSE_Test=np.sqrt(mean_squared_error(Y_OUT_Test,Y_Test))\n",
    "MAS_Train=mean_absolute_error(Y_OUT_Train,Y_Train)\n",
    "MAS_Test=mean_absolute_error(Y_OUT_Test,Y_Test)\n",
    "\n",
    "print (alpha, scoreTrain,scoreTest,RMSE_Train,RMSE_Test, sum(abs(coeff)>1E-10), np.size(coeff)) \n",
    "\n",
    "\n",
    "output_file=\"CoeffLasso\"+\"_\"+str_type+\".txt\"\n",
    "with open(output_file,'w') as fw:    \n",
    "    for i in np.arange(np.size(coeff)):\n",
    "        fw.write(\"%g %g\\n\"%(i,coeff[i]/kbT))\n",
    "\n",
    "output_file=\"ResultsLasso_Test\"+\"_\"+str_type+\".txt\"\n",
    "with open(output_file,'w') as fw:    \n",
    "    for i in np.arange(np.size(Y_Test)):\n",
    "        fw.write(\"%g %g %g \\n\"%(i,Y_Test[i],Y_OUT_Test[i]))\n",
    "\n",
    "output_file=\"ResultsLasso_Train\"+\"_\"+str_type+\".txt\"\n",
    "with open(output_file,'w') as fw:    \n",
    "    for i in np.arange(np.size(Y_Train)):\n",
    "        fw.write(\"%g %g %g \\n\"%(i,Y_Train[i],Y_OUT_Train[i]))\n",
    "        \n",
    "        "
   ]
  },
  {
   "cell_type": "code",
   "execution_count": 6,
   "metadata": {},
   "outputs": [
    {
     "name": "stdout",
     "output_type": "stream",
     "text": [
      "459\n"
     ]
    },
    {
     "data": {
      "image/png": "[encoded data removed]",
      "text/plain": [
       "<Figure size 432x288 with 1 Axes>"
      ]
     },
     "metadata": {
      "needs_background": "light"
     },
     "output_type": "display_data"
    },
    {
     "name": "stdout",
     "output_type": "stream",
     "text": [
      "459\n"
     ]
    },
    {
     "data": {
      "image/png": "[encoded data removed]",
      "text/plain": [
       "<Figure size 432x288 with 1 Axes>"
      ]
     },
     "metadata": {
      "needs_background": "light"
     },
     "output_type": "display_data"
    },
    {
     "name": "stdout",
     "output_type": "stream",
     "text": [
      "459\n"
     ]
    },
    {
     "data": {
      "image/png": "[encoded data removed]",
      "text/plain": [
       "<Figure size 432x288 with 1 Axes>"
      ]
     },
     "metadata": {
      "needs_background": "light"
     },
     "output_type": "display_data"
    }
   ],
   "source": [
    "r=np.arange(1,9,0.1)\n",
    "V_AA=r*0\n",
    "V_BB=r*0\n",
    "V_AB=r*0\n",
    "\n",
    "\n",
    "N_coeff=np.shape(list_LJ)[0]\n",
    "for ratio in (0.00,0.50,1.00):\n",
    "    list_coeff=np.genfromtxt(\"Coeff\"+str(ratio)+\"_\"+str_type+\".txt\",usecols=[1])/kbT\n",
    "    \n",
    "    \n",
    "    N_coeff=np.shape(list_coeff)[0]\n",
    "    N_coeffLJ=np.shape(list_LJ)[0]\n",
    "    N_coeffGauss=np.shape(list_Gauss)[0]\n",
    "    \n",
    "    print (N_coeffGauss*3)\n",
    "\n",
    "    for i_coeff in np.arange(N_coeffLJ):\n",
    "        a=list_LJ[i_coeff,0]*sigma\n",
    "        b=list_LJ[i_coeff,1]\n",
    "        V_AA=V_AA+LJ(r,a)*list_coeff[i_coeff+(N_coeff-3*N_coeffLJ)]\n",
    "\n",
    "    for i_coeff in np.arange(N_coeffGauss):\n",
    "        a=list_Gauss[i_coeff,0]\n",
    "        b=list_Gauss[i_coeff,1]\n",
    "        V_AA=V_AA+gaussian(r,a,b)*list_coeff[i_coeff]\n",
    "\n",
    "    plt.plot(r,V_AA,\"red\")\n",
    "\n",
    "\n",
    "\n",
    "    for i_coeff in np.arange(N_coeffLJ):\n",
    "        a=list_LJ[i_coeff,0]*sigma\n",
    "        b=list_LJ[i_coeff,1]\n",
    "        V_BB=V_BB+LJ(r,a)*list_coeff[i_coeff+N_coeffLJ+(N_coeff-3*N_coeffLJ)]\n",
    "\n",
    "    for i_coeff in np.arange(N_coeffGauss):\n",
    "        a=list_Gauss[i_coeff,0]\n",
    "        b=list_Gauss[i_coeff,1]\n",
    "        V_BB=V_BB+gaussian(r,a,b)*list_coeff[i_coeff+N_coeffGauss]\n",
    "    \n",
    "    plt.plot(r,V_BB,\"green\")\n",
    "\n",
    "\n",
    "    for i_coeff in np.arange(N_coeffLJ):\n",
    "        a=list_LJ[i_coeff,0]*sigma\n",
    "        b=list_LJ[i_coeff,1]\n",
    "        V_AB=V_AB+LJ(r,a)*list_coeff[i_coeff+N_coeffLJ*2+(N_coeff-3*N_coeffLJ)]\n",
    "\n",
    "    for i_coeff in np.arange(N_coeffGauss):\n",
    "        a=list_Gauss[i_coeff,0]\n",
    "        b=list_Gauss[i_coeff,1]\n",
    "        V_AB=V_AB+gaussian(r,a,b)*list_coeff[i_coeff+N_coeffGauss*2]\n",
    "    \n",
    "    plt.plot(r,V_AB,\"blue\")\n",
    "\n",
    "\n",
    "\n",
    "    plt.ylim([-5,1 ])\n",
    "    plt.xlabel('r [$\\AA$]')\n",
    "    plt.ylabel('V (r) [eV]')\n",
    "    \n",
    "    plt.plot(r,LJ(r,sigma),'r--')\n",
    "    plt.plot(r,LJ(r,sigma*0.88)*0.5,'g--')\n",
    "    plt.plot(r,LJ(r,sigma*0.80)*1.5,'b--')\n",
    "    plt.show()\n",
    "   \n",
    "    gp.s([r,V_AA,V_BB,V_AB])\n",
    "    os.system ('mv tmp.dat OutLasso.txt')\n",
    "\n",
    "\n",
    "    gp.s([r,LJ(r,sigma)*kbT,LJ(r,sigma*0.88)*kbT*0.5,LJ(r,sigma*0.80)*kbT*1.5])\n",
    "    os.system(\"mv tmp.dat Out\"+str(ratio)+\"_\"+str_type+\".txt\")\n",
    "    \n",
    "\n",
    "    "
   ]
  },
  {
   "cell_type": "code",
   "execution_count": 9,
   "metadata": {},
   "outputs": [
    {
     "name": "stdout",
     "output_type": "stream",
     "text": [
      "AA\n",
      "LJ 1.0000000000000002 1.0 0.992174\n",
      "Gauss 2.25 2.0 1.20451\n",
      "Gauss 2.5 5.5 -0.00189808\n",
      "Gauss 2.5 10.0 0.998957\n",
      "BB\n",
      "LJ 0.8600000000000002 1.0 0.00862156\n",
      "LJ 0.8800000000000001 1.0 0.493029\n",
      "AB\n",
      "LJ 0.8000000000000002 1.0 1.49876\n",
      "Gauss 1.75 9.0 -0.0268035\n",
      "Gauss 2.5 8.5 -0.00263855\n"
     ]
    },
    {
     "data": {
      "image/png": "[encoded data removed]",
      "text/plain": [
       "<Figure size 432x288 with 1 Axes>"
      ]
     },
     "metadata": {
      "needs_background": "light"
     },
     "output_type": "display_data"
    }
   ],
   "source": [
    "r=np.arange(1,9,0.1)\n",
    "V_AA=r*0\n",
    "V_BB=r*0\n",
    "V_AB=r*0\n",
    "\n",
    "\n",
    "\n",
    "\n",
    "list_coeff=np.genfromtxt(\"CoeffLasso\"+\"_\"+str_type+\".txt\",usecols=[1])\n",
    "N_coeff=np.shape(list_coeff)[0]\n",
    "N_coeffLJ=np.shape(list_LJ)[0]\n",
    "N_coeffGauss=np.shape(list_Gauss)[0]\n",
    "\n",
    "print ('AA')\n",
    "for i_coeff in np.arange(N_coeffLJ):\n",
    "    a=list_LJ[i_coeff,0]*sigma\n",
    "    b=list_LJ[i_coeff,1]\n",
    "    V_AA=V_AA+LJ(r,a)*list_coeff[i_coeff+(N_coeff-3*N_coeffLJ)]\n",
    "    if (abs(list_coeff[i_coeff+(N_coeff-3*N_coeffLJ)])>1e-10):\n",
    "        print (\"LJ\",a/sigma,b,list_coeff[i_coeff+(N_coeff-3*N_coeffLJ)])\n",
    "\n",
    "for i_coeff in np.arange(N_coeffGauss):\n",
    "    a=list_Gauss[i_coeff,0]\n",
    "    b=list_Gauss[i_coeff,1]\n",
    "    V_AA=V_AA+gaussian(r,a,b)*list_coeff[i_coeff]\n",
    "    if (abs(list_coeff[i_coeff])>1e-10):\n",
    "        print (\"Gauss\",a,b,list_coeff[i_coeff])\n",
    "plt.plot(r,V_AA,\"red\")\n",
    "\n",
    "\n",
    "print ('BB')\n",
    "for i_coeff in np.arange(N_coeffLJ):\n",
    "    a=list_LJ[i_coeff,0]*sigma\n",
    "    b=list_LJ[i_coeff,1]\n",
    "    V_BB=V_BB+LJ(r,a)*list_coeff[i_coeff+N_coeffLJ+(N_coeff-3*N_coeffLJ)]\n",
    "    if (abs(list_coeff[i_coeff+N_coeffLJ+(N_coeff-3*N_coeffLJ)])>1e-10):\n",
    "        print (\"LJ\",a/sigma,b,list_coeff[i_coeff+N_coeffLJ+(N_coeff-3*N_coeffLJ)])    \n",
    "\n",
    "for i_coeff in np.arange(N_coeffGauss):\n",
    "    a=list_Gauss[i_coeff,0]\n",
    "    b=list_Gauss[i_coeff,1]\n",
    "    V_BB=V_BB+gaussian(r,a,b)*list_coeff[i_coeff+N_coeffGauss]\n",
    "    if (abs(list_coeff[i_coeff+N_coeffGauss])>1E-10):\n",
    "        print (\"Gauss\",a,b,list_coeff[i_coeff+N_coeffGauss])    \n",
    "plt.plot(r,V_BB,\"green\")\n",
    "\n",
    "\n",
    "print ('AB')\n",
    "for i_coeff in np.arange(N_coeffLJ):\n",
    "    a=list_LJ[i_coeff,0]*sigma\n",
    "    b=list_LJ[i_coeff,1]\n",
    "    V_AB=V_AB+LJ(r,a)*list_coeff[i_coeff+N_coeffLJ*2+(N_coeff-3*N_coeffLJ)]\n",
    "    if (abs(list_coeff[i_coeff+N_coeffLJ*2+(N_coeff-3*N_coeffLJ)])>1e-10):\n",
    "        print (\"LJ\",a/sigma,b,list_coeff[i_coeff+N_coeffLJ*2+(N_coeff-3*N_coeffLJ)])    \n",
    "\n",
    "for i_coeff in np.arange(N_coeffGauss):\n",
    "    a=list_Gauss[i_coeff,0]\n",
    "    b=list_Gauss[i_coeff,1]\n",
    "    V_AB=V_AB+gaussian(r,a,b)*list_coeff[i_coeff+N_coeffGauss*2]\n",
    "    if (abs(list_coeff[i_coeff+N_coeffGauss*2])>1e-10):\n",
    "        print (\"Gauss\",a,b,list_coeff[i_coeff+N_coeffGauss*2])    \n",
    "plt.plot(r,V_AB,\"blue\")\n",
    "\n",
    "\n",
    "\n",
    "plt.ylim([-5,1 ])\n",
    "plt.xlabel('r [$\\AA$]')\n",
    "plt.ylabel('V (r) [eV]')\n",
    "\n",
    "plt.plot(r,LJ(r,sigma),'r--')\n",
    "plt.plot(r,LJ(r,sigma*0.88)*0.5,'g--')\n",
    "plt.plot(r,LJ(r,sigma*0.80)*1.5,'b--')\n",
    "plt.show()"
   ]
  },
  {
   "cell_type": "code",
   "execution_count": null,
   "metadata": {},
   "outputs": [],
   "source": []
  }
 ],
 "metadata": {
  "kernelspec": {
   "display_name": "Python 3",
   "language": "python",
   "name": "python3"
  },
  "language_info": {
   "codemirror_mode": {
    "name": "ipython",
    "version": 3
   },
   "file_extension": ".py",
   "mimetype": "text/x-python",
   "name": "python",
   "nbconvert_exporter": "python",
   "pygments_lexer": "ipython3",
   "version": "3.8.5"
  }
 },
 "nbformat": 4,
 "nbformat_minor": 4
}
